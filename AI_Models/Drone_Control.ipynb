{
  "cells": [
    {
      "cell_type": "markdown",
      "metadata": {
        "id": "view-in-github",
        "colab_type": "text"
      },
      "source": [
        "<a href=\"https://colab.research.google.com/github/jh226/2024-SW-AI/blob/main/%EB%93%9C%EB%A1%A0%EC%A0%9C%EC%96%B4%ED%83%90%EC%A7%80%EB%AA%A8%EB%8D%B8.ipynb\" target=\"_parent\"><img src=\"https://colab.research.google.com/assets/colab-badge.svg\" alt=\"Open In Colab\"/></a>"
      ]
    },
    {
      "cell_type": "markdown",
      "metadata": {
        "id": "fKedLqvMdEO4"
      },
      "source": [
        "드론제어탐지모델\n",
        "## 2024년 05월 7일 로봇응용SW전문가 과정 이지현"
      ]
    },
    {
      "cell_type": "markdown",
      "metadata": {
        "id": "wOJpWGSadQTP"
      },
      "source": [
        "## 드론제어탐지모델이란?\n",
        "    1. 드론을 이륙, 착륙, 추종을 명령 가능한 제스처를 탐지함\n",
        "    2. 제스처를 탐지하여 드론을 제어함\n",
        "    "
      ]
    },
    {
      "cell_type": "markdown",
      "metadata": {
        "id": "89WrgcXWdf8G"
      },
      "source": [
        "## 드론제어탐지를 위한 데이터 세트\n",
        "    1. https://public.roboflow.com/object-detection/drone-gesture-control\n",
        "## 사용 AI 모델\n",
        "    1. yoloV5\n",
        "        . 가장 빠른 인식률로 실시간 탐지에 유리 하다.\n",
        "        . CNN 알고리즘 중 가장 활발하게 연구활동이 이루어지고 있다."
      ]
    },
    {
      "cell_type": "markdown",
      "metadata": {
        "id": "ojqht58JetdH"
      },
      "source": [
        "## 1. YOLO Clon from github\n"
      ]
    },
    {
      "cell_type": "markdown",
      "metadata": {
        "id": "tCnXlm5EmTnK"
      },
      "source": [
        "### colab에서 사용중인 가상머신 스팩보기"
      ]
    },
    {
      "cell_type": "code",
      "execution_count": null,
      "metadata": {
        "id": "saO2_RtBlT46"
      },
      "outputs": [],
      "source": [
        "#colab의 시스템 사양 알아 보기\n",
        "from tensorflow.python.client import device_lib\n",
        "device_lib.list_local_devices()"
      ]
    },
    {
      "cell_type": "code",
      "execution_count": null,
      "metadata": {
        "id": "fvXp1yQFllUy"
      },
      "outputs": [],
      "source": [
        "import platform\n",
        "platform.platform()"
      ]
    },
    {
      "cell_type": "code",
      "execution_count": null,
      "metadata": {
        "id": "aMD5Zlp4lvr8"
      },
      "outputs": [],
      "source": [
        "!cat /etc/issue.net\n",
        "!cat /proc/meminfo\n",
        "!cat /proc/cpuinfo\n",
        "#디스크정보보기\n",
        "!df -h\n",
        "#GPU정보보기\n",
        "!nvidia-sml\n",
        "#파이썬버젼확인\n",
        "!python --version\n"
      ]
    },
    {
      "cell_type": "markdown",
      "metadata": {
        "id": "IZociVygkmt7"
      },
      "source": [
        "### 작업 폴더를 준비 하고 이동한다."
      ]
    },
    {
      "cell_type": "code",
      "execution_count": null,
      "metadata": {
        "id": "NzPWye3BcwYr"
      },
      "outputs": [],
      "source": [
        "%cd /content\n"
      ]
    },
    {
      "cell_type": "markdown",
      "metadata": {
        "id": "5nGlpbemmgsB"
      },
      "source": [
        "###github에서 복사해오기"
      ]
    },
    {
      "cell_type": "code",
      "execution_count": null,
      "metadata": {
        "id": "hmqt7yN1mm95"
      },
      "outputs": [],
      "source": [
        "!git clone https://github.com/ultralytics/yolov5"
      ]
    },
    {
      "cell_type": "markdown",
      "metadata": {
        "id": "gp7hCX4OmwdJ"
      },
      "source": [
        "###개발환경을 install한다."
      ]
    },
    {
      "cell_type": "code",
      "execution_count": null,
      "metadata": {
        "id": "fv5S5bSgm9FJ"
      },
      "outputs": [],
      "source": [
        "%pwd\n",
        "%cd content/yolov5"
      ]
    },
    {
      "cell_type": "code",
      "execution_count": null,
      "metadata": {
        "id": "V4XzYKDmmzcx"
      },
      "outputs": [],
      "source": [
        "%pip install -r requirements.txt"
      ]
    },
    {
      "cell_type": "markdown",
      "metadata": {
        "id": "-3WiBTrmnhFR"
      },
      "source": [
        "## 2. 데이터세트 가져오기\n",
        "위치는 https://public.roboflow.com/object-detection/drone-gesture-control"
      ]
    },
    {
      "cell_type": "code",
      "execution_count": null,
      "metadata": {
        "id": "SIRdFlc7nm1F"
      },
      "outputs": [],
      "source": [
        "#폴더를 만든다\n",
        "%mkdir drone_control\n",
        "%cd drone_control"
      ]
    },
    {
      "cell_type": "code",
      "execution_count": null,
      "metadata": {
        "id": "LTAfVhcvyjvf"
      },
      "outputs": [],
      "source": [
        "%cd /content/yolov5/drone_control"
      ]
    },
    {
      "cell_type": "code",
      "execution_count": null,
      "metadata": {
        "id": "T5_sh3GgoM57"
      },
      "outputs": [],
      "source": [
        "!curl -L \"https://public.roboflow.com/ds/RV6uE4USEq?key=8bibcl5maK\" > roboflow.zip; unzip roboflow.zip; rm roboflow.zip"
      ]
    },
    {
      "cell_type": "markdown",
      "metadata": {
        "id": "P9Nb2Fm5odOR"
      },
      "source": [
        "###원본 dataSet의 구조를 알아보기 **참고1"
      ]
    },
    {
      "cell_type": "code",
      "execution_count": null,
      "metadata": {
        "id": "YoNJqoG-ohYQ"
      },
      "outputs": [],
      "source": [
        "%cat /content/yolov5/drone_control/data.yaml"
      ]
    },
    {
      "cell_type": "markdown",
      "metadata": {
        "id": "6yy1-5AopUH4"
      },
      "source": [
        "이번 데이터세트는 train과 test, valid로 구성 되어 있다."
      ]
    },
    {
      "cell_type": "markdown",
      "metadata": {
        "id": "iG27tksUqbF4"
      },
      "source": [
        "### 데이터의 구성을 확인한다."
      ]
    },
    {
      "cell_type": "code",
      "execution_count": null,
      "metadata": {
        "id": "aq-kMrhqqebn"
      },
      "outputs": [],
      "source": [
        "from glob import glob\n",
        "train_img_list = glob('train/images/*.jpg')\n",
        "test_img_list = glob('test/images/*.jpg')\n",
        "valid_img_list = glob('valid/images/*.jpg')\n",
        "print(len(train_img_list), len(test_img_list), len(valid_img_list))"
      ]
    },
    {
      "cell_type": "markdown",
      "metadata": {
        "id": "mp1UXSMx2FA8"
      },
      "source": [
        "glob은 해당 폴더의 파일 목록을 읽어와서 list로 저장하는 것이다."
      ]
    },
    {
      "cell_type": "markdown",
      "metadata": {
        "id": "LI1MTAgBq3UJ"
      },
      "source": [
        "###데이터 llist를 txt 파일로 만든다"
      ]
    },
    {
      "cell_type": "code",
      "execution_count": null,
      "metadata": {
        "id": "M39R0k7Cq-qP"
      },
      "outputs": [],
      "source": [
        "import yaml\n",
        "with open('train.txt','w') as f:\n",
        "    f.write('\\n'.join(train_img_list) + '\\n')\n",
        "with open('test.txt','w') as f:\n",
        "    f.write('\\n'.join(test_img_list) + '\\n')\n",
        "with open('val.txt','w') as f:\n",
        "    f.write('\\n'.join(valid_img_list) + '\\n')"
      ]
    },
    {
      "cell_type": "markdown",
      "metadata": {
        "id": "inMZA4oT2ZhR"
      },
      "source": [
        "yaml은 \"YAML Ain't Markup Language\"의 약자로, 데이터를 저장하고 전달하기 위한 사람이 읽기 쉬운 데이터 직렬화 포맷입니다. 주로 설정 파일이나 데이터를 주고받을 때 사용되며, XML이나 JSON과 유사한 기능을 합니다. Python에서 yaml 모듈을 사용하려면, 먼저 PyYAML 패키지를 설치해야 합니다. 이 모듈을 사용하여 Python 데이터 구조를 YAML 형식의 문자열로 변환하거나, YAML 파일을 읽어 Python 데이터 구조로 변환할 수 있습니다.\n",
        "\n",
        "예를 들어, Python 리스트나 딕셔너리를 YAML 문자열로 바꾸거나, 반대로 YAML 형식의 문자열을 Python 딕셔너리로 변환할 때 사용할 수 있습니다."
      ]
    },
    {
      "cell_type": "markdown",
      "metadata": {
        "id": "4Jo8Il01rRgn"
      },
      "source": [
        "###프로그램 중에 사용할 함수를 정의합니다.\n",
        "writetemplate이라는 함수"
      ]
    },
    {
      "cell_type": "code",
      "execution_count": null,
      "metadata": {
        "id": "tY2L_OYQrXU3"
      },
      "outputs": [],
      "source": [
        "from IPython.core.magic import register_line_cell_magic\n",
        "\n",
        "@register_line_cell_magic\n",
        "def writetemplate(line,cell):\n",
        "    with open(line, 'w') as f:\n",
        "        f.write(cell.format(**globals()))"
      ]
    },
    {
      "cell_type": "markdown",
      "metadata": {
        "id": "SHKUlwrirc6v"
      },
      "source": [
        "### 이전에 확인했던 data.yaml의 내용을 수정합니다.\n",
        "내용은 기존 내용중에 데이터의 위치를 수정\n",
        "\n",
        "**참고1의 내용을 복사해서 경로만 수정함"
      ]
    },
    {
      "cell_type": "code",
      "execution_count": null,
      "metadata": {
        "id": "EBHqQfWWrk3v"
      },
      "outputs": [],
      "source": [
        "%%writetemplate /content/yolov5/drone_control/data.yaml\n",
        "\n",
        "train: train/images\n",
        "val: valid/images\n",
        "\n",
        "nc: 8\n",
        "names: ['follow', 'follow_hand', 'land', 'land_hand', 'null', 'object', 'takeoff', 'takeoff-hand']"
      ]
    },
    {
      "cell_type": "code",
      "execution_count": null,
      "metadata": {
        "id": "i5NCMrLbsVNf"
      },
      "outputs": [],
      "source": [
        "%cat /content/yolov5/drone_control/data.yaml"
      ]
    },
    {
      "cell_type": "markdown",
      "metadata": {
        "id": "CZa6QiF3sjxv"
      },
      "source": [
        "### 파인튜닝된 모델에서 사용할 custom_yolov5s.yaml을 만들기"
      ]
    },
    {
      "cell_type": "markdown",
      "metadata": {
        "id": "jdTkXvh_syT2"
      },
      "source": [
        "1. nc:3 이라고 적힌 것을 읽어서 변수에 저장\n",
        "2. yolov5s.yaml의 내용을 cat으로 확인 하고 복사\n",
        "3. writeTemplate 함수를 이용해서 새로 작성\n",
        "   . nc:80 이라고 적힌 부분만\n",
        "   . nc:{num_classes}라는 변수로 대체\n",
        "\n",
        "   ![image.png](data:image/png;base64,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)"
      ]
    },
    {
      "cell_type": "code",
      "execution_count": null,
      "metadata": {
        "id": "LgZhbjs0tSEe"
      },
      "outputs": [],
      "source": [
        "import yaml\n",
        "\n",
        "with open('/content/yolov5/drone_control/data.yaml','r') as stream:\n",
        "  num_classes = str(yaml.safe_load(stream)['nc'])\n",
        "\n",
        "print (f'num_classes: = {num_classes}')\n",
        "\n",
        "%cat /content/yolov5/models/yolov5s.yaml"
      ]
    },
    {
      "cell_type": "code",
      "execution_count": null,
      "metadata": {
        "id": "YUaLwGLxts4N"
      },
      "outputs": [],
      "source": [
        "%%writetemplate /content/yolov5/models/custom_yolov5s.yaml\n",
        "\n",
        "# Parameters\n",
        "nc: {num_classes} # number of classes\n",
        "depth_multiple: 0.33 # model depth multiple\n",
        "width_multiple: 0.50 # layer channel multiple\n",
        "anchors:\n",
        "  - [10, 13, 16, 30, 33, 23] # P3/8\n",
        "  - [30, 61, 62, 45, 59, 119] # P4/16\n",
        "  - [116, 90, 156, 198, 373, 326] # P5/32\n",
        "\n",
        "# YOLOv5 v6.0 backbone\n",
        "backbone:\n",
        "  # [from, number, module, args]\n",
        "  [\n",
        "    [-1, 1, Conv, [64, 6, 2, 2]], # 0-P1/2\n",
        "    [-1, 1, Conv, [128, 3, 2]], # 1-P2/4\n",
        "    [-1, 3, C3, [128]],\n",
        "    [-1, 1, Conv, [256, 3, 2]], # 3-P3/8\n",
        "    [-1, 6, C3, [256]],\n",
        "    [-1, 1, Conv, [512, 3, 2]], # 5-P4/16\n",
        "    [-1, 9, C3, [512]],\n",
        "    [-1, 1, Conv, [1024, 3, 2]], # 7-P5/32\n",
        "    [-1, 3, C3, [1024]],\n",
        "    [-1, 1, SPPF, [1024, 5]], # 9\n",
        "  ]\n",
        "\n",
        "# YOLOv5 v6.0 head\n",
        "head: [\n",
        "    [-1, 1, Conv, [512, 1, 1]],\n",
        "    [-1, 1, nn.Upsample, [None, 2, \"nearest\"]],\n",
        "    [[-1, 6], 1, Concat, [1]], # cat backbone P4\n",
        "    [-1, 3, C3, [512, False]], # 13\n",
        "\n",
        "    [-1, 1, Conv, [256, 1, 1]],\n",
        "    [-1, 1, nn.Upsample, [None, 2, \"nearest\"]],\n",
        "    [[-1, 4], 1, Concat, [1]], # cat backbone P3\n",
        "    [-1, 3, C3, [256, False]], # 17 (P3/8-small)\n",
        "\n",
        "    [-1, 1, Conv, [256, 3, 2]],\n",
        "    [[-1, 14], 1, Concat, [1]], # cat head P4\n",
        "    [-1, 3, C3, [512, False]], # 20 (P4/16-medium)\n",
        "\n",
        "    [-1, 1, Conv, [512, 3, 2]],\n",
        "    [[-1, 10], 1, Concat, [1]], # cat head P5\n",
        "    [-1, 3, C3, [1024, False]], # 23 (P5/32-large)\n",
        "\n",
        "    [[17, 20, 23], 1, Detect, [nc, anchors]], # Detect(P3, P4, P5)\n",
        "  ]"
      ]
    },
    {
      "cell_type": "markdown",
      "metadata": {
        "id": "phIfcxD82zWS"
      },
      "source": [
        "fine_tunning 모델에서 사용할\n",
        "custom_yolov5s.yaml의 내용\n",
        "\n",
        "아래 내용에서 꼭 확인 할것으 ㄴ\n",
        "nc:3 이라는 점"
      ]
    },
    {
      "cell_type": "code",
      "execution_count": null,
      "metadata": {
        "id": "xsNXX-iiujnl"
      },
      "outputs": [],
      "source": [
        "%cat /content/yolov5/models/custom_yolov5s.yaml"
      ]
    },
    {
      "cell_type": "markdown",
      "metadata": {
        "id": "c5UM75VVuo9V"
      },
      "source": [
        "### 데이터 세트의 준비가 끝났습니다."
      ]
    },
    {
      "cell_type": "markdown",
      "metadata": {
        "id": "3XlPc99Wum1F"
      },
      "source": [
        "## 3. 학습"
      ]
    },
    {
      "cell_type": "markdown",
      "metadata": {
        "id": "HiM48IXh5Hfw"
      },
      "source": [
        "1. 학습에 사용되는 train.py는 gitclone했을때 생성되었으며\n",
        "2. 코드 수정없이 다음 hyperParameter를 지정해서 사용한다."
      ]
    },
    {
      "cell_type": "markdown",
      "metadata": {
        "id": "eGaeStV95RIA"
      },
      "source": [
        "하이퍼파라메타는 다음과 같다 .\n",
        "\n",
        "    1. img: 원본 데이터의 이미지 크기 정의\n",
        "\n",
        "    2. batch: 한번에 읽어들일 데이터의 수 배치 크기 결정\n",
        "\n",
        "    3. epochs: 학습 기간 개수 정의.학습 반복 횟수\n",
        "\n",
        "    4. data: data.yaml의 파일 경로\n",
        "\n",
        "    5. cfg: 최종적으로 만들어지는 모델이 custom_yolov5s.yaml임을 지정\n",
        "\n",
        "    6. weights: 가중치에 대한 경로 지정 이것은 여기서는 사용하지 않으나 transferLearning을 하는 경우 이전에 하던 작업을 이어받을 경우 최종 가중치 파일을 지정\n",
        "\n",
        "    7. name: 결과 확인을 위한 이름\n",
        "\n",
        "    8. cache: 빠른 학습을 위한 이미지 캐시 사용\n",
        "\n"
      ]
    },
    {
      "cell_type": "markdown",
      "metadata": {
        "id": "lZ3PRuss5qJf"
      },
      "source": [
        "### 학습시작"
      ]
    },
    {
      "cell_type": "code",
      "execution_count": null,
      "metadata": {
        "id": "fOaYKQQm5sHq"
      },
      "outputs": [],
      "source": [
        "%%time\n",
        "%cd /content/yolov5/\n",
        "!python train.py --img 416 --batch 16 --epochs 100 --data ./drone_control/data.yaml --cfg ./models/custom_yolov5s.yaml --weights '' --name _result --cache"
      ]
    },
    {
      "cell_type": "markdown",
      "metadata": {
        "id": "egsmogggb7es"
      },
      "source": [
        "### tensorBoard를 이용해서 결과 확인\n",
        "현재 폴더는 틀림없이 yolov5이다"
      ]
    },
    {
      "cell_type": "code",
      "execution_count": null,
      "metadata": {
        "id": "4yeBnqmzb_7_"
      },
      "outputs": [],
      "source": [
        "%load_ext tensorboard\n",
        "%tensorboard --logdir runs"
      ]
    },
    {
      "cell_type": "markdown",
      "metadata": {
        "id": "qP0SVNb0cuxl"
      },
      "source": [
        "### 우리가 최종적으로 갖게 되는 가중치 파일은\n",
        "\n",
        "/content/yolov5/runs/train/_result/weights 폴더에\n",
        "\n",
        "다음 2개의 파일이 있다.\n",
        "\n",
        "best.pt - epoch중 가장 성능이 좋은 모델\n",
        "\n",
        "last.pt - 가장 마지막에 만들어진 모델\n"
      ]
    },
    {
      "cell_type": "markdown",
      "metadata": {
        "id": "MUDRwGjzdLAE"
      },
      "source": [
        "그래서  best.pt를 내 컴퓨터 또는 구글 드라이브에 다운 로드하여 두기로 한다."
      ]
    },
    {
      "cell_type": "markdown",
      "metadata": {
        "id": "b4El63zRdVNE"
      },
      "source": [
        "### 구글드라이브 연결하기"
      ]
    },
    {
      "cell_type": "code",
      "execution_count": null,
      "metadata": {
        "id": "OacC5ZaNda8z"
      },
      "outputs": [],
      "source": [
        "from google.colab import drive\n",
        "drive.mount('/content/drive')"
      ]
    },
    {
      "cell_type": "markdown",
      "metadata": {
        "id": "OxeMTfsRdn90"
      },
      "source": [
        "### 복사해두기"
      ]
    },
    {
      "cell_type": "code",
      "execution_count": null,
      "metadata": {
        "id": "QnYBm-jqdqLs"
      },
      "outputs": [],
      "source": [
        "!cp /content/yolov5/runs/train/_result/weights/best.pt /content/drive/MyDrive/yolov5Models/drone_control.pt"
      ]
    }
  ],
  "metadata": {
    "accelerator": "GPU",
    "colab": {
      "gpuType": "V100",
      "machine_shape": "hm",
      "private_outputs": true,
      "provenance": [],
      "include_colab_link": true
    },
    "kernelspec": {
      "display_name": "Python 3",
      "name": "python3"
    },
    "language_info": {
      "codemirror_mode": {
        "name": "ipython",
        "version": 3
      },
      "file_extension": ".py",
      "mimetype": "text/x-python",
      "name": "python",
      "nbconvert_exporter": "python",
      "pygments_lexer": "ipython3",
      "version": "3.11.2"
    }
  },
  "nbformat": 4,
  "nbformat_minor": 0
}
